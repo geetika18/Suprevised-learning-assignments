{
 "cells": [
  {
   "cell_type": "code",
   "execution_count": 1,
   "id": "3f339647",
   "metadata": {},
   "outputs": [],
   "source": [
    "import numpy as np\n",
    "import matplotlib.pyplot as plt\n",
    "from utils import *\n",
    "import copy\n",
    "import math\n",
    "%matplotlib inline"
   ]
  },
  {
   "cell_type": "markdown",
   "id": "c9f6f772",
   "metadata": {},
   "source": [
    "use data to help you identify which cities may potentially give your business higher profits."
   ]
  },
  {
   "cell_type": "code",
   "execution_count": 2,
   "id": "6e900be7",
   "metadata": {},
   "outputs": [],
   "source": [
    "# load dataset\n",
    "x_train, y_train = load_data()"
   ]
  },
  {
   "cell_type": "code",
   "execution_count": 7,
   "id": "c7a5d0f0",
   "metadata": {},
   "outputs": [
    {
     "name": "stdout",
     "output_type": "stream",
     "text": [
      "Type of x_train: <class 'numpy.ndarray'>\n",
      "first five elements of x_tarin are: \n",
      " [6.1101 5.5277 8.5186 7.0032 5.8598]\n",
      "shape of X: (97,)\n",
      "shape of Y: (97,)\n",
      "number of training examples: 97\n"
     ]
    }
   ],
   "source": [
    "# print training examples\n",
    "print(\"Type of x_train:\", type(x_train))\n",
    "print(\"first five elements of x_tarin are: \\n\", x_train[:5])\n",
    "print(\"shape of X:\", x_train.shape)\n",
    "print(\"shape of Y:\", y_train.shape)\n",
    "print(\"number of training examples:\", len(x_train))"
   ]
  },
  {
   "cell_type": "code",
   "execution_count": 13,
   "id": "7cd99096",
   "metadata": {},
   "outputs": [
    {
     "data": {
      "image/png": "[encoded data removed]",
      "text/plain": [
       "<Figure size 432x288 with 1 Axes>"
      ]
     },
     "metadata": {
      "needs_background": "light"
     },
     "output_type": "display_data"
    }
   ],
   "source": [
    "#visualizing the data\n",
    "plt.scatter(x_train, y_train, marker= '.', c = 'r')\n",
    "plt.title('Profits vs populations')\n",
    "plt.ylabel('profits in $10,000')\n",
    "plt.xlabel('populations in 10,000s')\n",
    "plt.show()"
   ]
  },
  {
   "cell_type": "code",
   "execution_count": 17,
   "id": "201b94c5",
   "metadata": {},
   "outputs": [],
   "source": [
    "# training using linear regression\n",
    "\n",
    "def compute_cost(x, y, w, b): \n",
    "    \"\"\"\n",
    "    Computes the cost function for linear regression.\n",
    "    \n",
    "    Args:\n",
    "        x (ndarray): Shape (m,) Input to the model (Population of cities) \n",
    "        y (ndarray): Shape (m,) Label (Actual profits for the cities)\n",
    "        w, b (scalar): Parameters of the model\n",
    "    \n",
    "    Returns\n",
    "        total_cost (float): The cost of using w,b as the parameters for linear regression\n",
    "               to fit the data points in x and y\n",
    "    \"\"\"\n",
    "    m = x.shape[0]\n",
    "    \n",
    "    total_cost = 0\n",
    "    cost = 0\n",
    "    for i in range (m):\n",
    "        f_wb = w * x[i] +b\n",
    "        cost += (f_wb - y[i])**2\n",
    "    \n",
    "    total_cost = (cost/(2*m))\n",
    "    \n",
    "    return total_cost\n",
    "        "
   ]
  },
  {
   "cell_type": "code",
   "execution_count": 23,
   "id": "9c9698f9",
   "metadata": {},
   "outputs": [
    {
     "name": "stdout",
     "output_type": "stream",
     "text": [
      "initially cost: 75.203\n",
      "\u001b[92mAll tests passed!\n"
     ]
    }
   ],
   "source": [
    "# run the model and compute cost\n",
    "initial_w = 2\n",
    "initial_b = 1\n",
    "\n",
    "cost = compute_cost(x_train, y_train, initial_w, initial_b)\n",
    "print(f'initially cost: {cost:.3f}')\n",
    "\n",
    "from public_tests import *\n",
    "compute_cost_test(compute_cost)\n"
   ]
  },
  {
   "cell_type": "code",
   "execution_count": 31,
   "id": "724a61cb",
   "metadata": {},
   "outputs": [],
   "source": [
    "# Gradient descent\n",
    "def compute_gradient(x, y, w, b): \n",
    "    \"\"\"\n",
    "    Computes the gradient for linear regression \n",
    "    Args:\n",
    "      x (ndarray): Shape (m,) Input to the model (Population of cities) \n",
    "      y (ndarray): Shape (m,) Label (Actual profits for the cities)\n",
    "      w, b (scalar): Parameters of the model  \n",
    "    Returns\n",
    "      dj_dw (scalar): The gradient of the cost w.r.t. the parameters w\n",
    "      dj_db (scalar): The gradient of the cost w.r.t. the parameter b     \n",
    "     \"\"\"\n",
    "    m = x.shape[0]\n",
    "    dj_dw = 0\n",
    "    dj_db = 0\n",
    "    \n",
    "    for i in range(m):\n",
    "        f_wb = w * x[i] + b\n",
    "        dj_dw += (f_wb - y[i]) * x[i]\n",
    "        dj_db += f_wb - y[i]\n",
    "        \n",
    "    dj_dw = dj_dw/m\n",
    "    dj_db = dj_db/m\n",
    "\n",
    "    return dj_dw, dj_db"
   ]
  },
  {
   "cell_type": "code",
   "execution_count": 32,
   "id": "b1cbfc5e",
   "metadata": {},
   "outputs": [
    {
     "name": "stdout",
     "output_type": "stream",
     "text": [
      "Initially dj_dw, dj_db : (-65.32884974555672, -5.83913505154639)\n",
      "Using X with shape (4, 1)\n",
      "\u001b[92mAll tests passed!\n"
     ]
    }
   ],
   "source": [
    "#compute and print gradient descent\n",
    "initial_w = 0\n",
    "initial_b = 0\n",
    "\n",
    "tmp_dj_dw, tmp_dj_db = compute_gradient(x_train, y_train, initial_w, initial_b)\n",
    "print(f\"Initially dj_dw, dj_db : {tmp_dj_dw, tmp_dj_db}\")\n",
    "\n",
    "compute_gradient_test(compute_gradient)"
   ]
  },
  {
   "cell_type": "code",
   "execution_count": 34,
   "id": "ff5feb02",
   "metadata": {},
   "outputs": [
    {
     "name": "stdout",
     "output_type": "stream",
     "text": [
      "Initially dj_dw, dj_db : (-47.41610118114435, -4.007175051546391)\n"
     ]
    }
   ],
   "source": [
    "test_w = 0.2\n",
    "test_b = 0.2\n",
    "tmp_dj_dw, tmp_dj_db = compute_gradient(x_train, y_train, test_w, test_b)\n",
    "print(f\"Initially dj_dw, dj_db : {tmp_dj_dw, tmp_dj_db}\")"
   ]
  },
  {
   "cell_type": "code",
   "execution_count": 46,
   "id": "22f332da",
   "metadata": {},
   "outputs": [],
   "source": [
    "#learning using batch gradient descent\n",
    "def gradient_descent(x, y, w_in, b_in, cost_function, gradient_function, alpha, num_iters): \n",
    "    \"\"\"\n",
    "    Performs batch gradient descent to learn theta. Updates theta by taking \n",
    "    num_iters gradient steps with learning rate alpha\n",
    "    \n",
    "    Args:\n",
    "      x :    (ndarray): Shape (m,)\n",
    "      y :    (ndarray): Shape (m,)\n",
    "      w_in, b_in : (scalar) Initial values of parameters of the model\n",
    "      cost_function: function to compute cost\n",
    "      gradient_function: function to compute the gradient\n",
    "      alpha : (float) Learning rate\n",
    "      num_iters : (int) number of iterations to run gradient descent\n",
    "    Returns\n",
    "      w : (ndarray): Shape (1,) Updated values of parameters of the model after\n",
    "          running gradient descent\n",
    "      b : (scalar)                Updated value of parameter of the model after\n",
    "          running gradient descent\n",
    "    \"\"\"\n",
    "    m = len(x)\n",
    "    \n",
    "    J_history = []\n",
    "    w_history = []\n",
    "    \n",
    "    w = copy.deepcopy(w_in)\n",
    "    b = b_in\n",
    "    \n",
    "    for i in range(num_iters):\n",
    "        dj_dw, dj_db = gradient_function(x,y,w,b)\n",
    "        \n",
    "        \n",
    "        w = w - alpha * dj_dw\n",
    "        b = b - alpha * dj_db\n",
    "        \n",
    "        if i<10000:\n",
    "            cost = cost_function(x,y,w,b)\n",
    "            J_history.append(cost)\n",
    "            \n",
    "        if i%math.ceil(num_iters/10) == 0:\n",
    "            w_history.append(w)\n",
    "            print(f\"Iteration {i:4}: Cost: {float(J_history[-1])}, w: {w_history[-1]}\")\n",
    "    \n",
    "    return w, b, J_history, w_history"
   ]
  },
  {
   "cell_type": "code",
   "execution_count": 47,
   "id": "5cd99b76",
   "metadata": {},
   "outputs": [
    {
     "name": "stdout",
     "output_type": "stream",
     "text": [
      "Iteration    0: Cost: 6.737190464870008, w: 0.6532884974555673\n",
      "Iteration  150: Cost: 5.311380876611357, w: 0.8888949164626273\n",
      "Iteration  300: Cost: 4.962606493117519, w: 0.9610073805299465\n",
      "Iteration  450: Cost: 4.7596161287279255, w: 1.0160217015468063\n",
      "Iteration  600: Cost: 4.6414735988143185, w: 1.0579919151026862\n",
      "Iteration  750: Cost: 4.572713402159868, w: 1.090010829330244\n",
      "Iteration  900: Cost: 4.532694243543437, w: 1.114437935638548\n",
      "Iteration 1050: Cost: 4.509402671757868, w: 1.1330732809334128\n",
      "Iteration 1200: Cost: 4.49584673167822, w: 1.147290114064432\n",
      "Iteration 1350: Cost: 4.487957031784419, w: 1.1581360812883905\n",
      "w,b found: (1.166362350335582, -3.63029143940436)\n"
     ]
    }
   ],
   "source": [
    "# run the learning \n",
    "initial_w = 0\n",
    "initial_b = 0\n",
    "\n",
    "iterations = 1500\n",
    "alpha = 0.01\n",
    "\n",
    "w,b,_,_ = gradient_descent(x_train, y_train, initial_w, initial_b, compute_cost, \n",
    "                           compute_gradient, alpha, iterations)\n",
    "print(f\"w,b found: {w,b}\")"
   ]
  },
  {
   "cell_type": "code",
   "execution_count": 49,
   "id": "5403be22",
   "metadata": {},
   "outputs": [
    {
     "name": "stdout",
     "output_type": "stream",
     "text": [
      "[ 3.49629916  2.81700972  6.30548288  4.53797737  3.20435866  6.14720751\n",
      "  5.08990004  6.37488144  3.93496804  2.2652037   3.03045403 12.89006489\n",
      "  3.05763028  6.17694975  2.94880867  2.64403819  3.79407147  2.35326405\n",
      "  3.86895193  4.61682347  3.58844178 20.0118734   2.7731545   3.74823343\n",
      "  2.8603984  18.46644329 11.33180479  9.14954083 11.73769889 22.26645183\n",
      "  2.49591017  4.05533663  7.15646085  3.24168226  5.94682646  5.62292763\n",
      "  5.81246151  2.90868581 11.34113569  3.78007512  2.67611315  4.39719744\n",
      " 10.02547896  3.10393486  5.49614404  4.64283335  2.28339895  3.1362431\n",
      " 10.01614806  2.83322216  5.16431395  2.56041001  5.02866601  5.23767815\n",
      "  3.75604805  3.78649011  3.68769922  2.94764231  7.22877531  7.39603168\n",
      "  6.66332285  2.41064908 21.18873301 13.75783848 18.48277236  4.78874528\n",
      "  6.04480089  8.30859358  2.78400167 20.09468513  8.19195734  4.92439322\n",
      "  3.37511411  4.79772627  2.23289546  4.00693259  5.16244777  2.24409254\n",
      "  8.35291535  2.32713754  3.05203174  2.42126298  3.78275775  7.76355245\n",
      "  3.969609    6.30384997  7.07714821  3.37021539  2.80849528  2.27080224\n",
      "  3.02695495  5.27675129  3.21707201  2.55772737  6.04281808 11.99196588\n",
      "  2.71110402]\n"
     ]
    }
   ],
   "source": [
    "# predict\n",
    "m = x_train.shape[0]\n",
    "predicted = np.zeros(m)\n",
    "\n",
    "for i in range(m):\n",
    "    predicted[i] = w * x_train[i] + b\n",
    "    \n",
    "print(predicted)"
   ]
  },
  {
   "cell_type": "code",
   "execution_count": 57,
   "id": "c0480f76",
   "metadata": {},
   "outputs": [
    {
     "data": {
      "image/png": "[encoded data removed]",
      "text/plain": [
       "<Figure size 432x288 with 1 Axes>"
      ]
     },
     "metadata": {
      "needs_background": "light"
     },
     "output_type": "display_data"
    }
   ],
   "source": [
    "#plot\n",
    "plt.plot(x_train, predicted, c = 'r')\n",
    "plt.scatter(x_train, y_train, c = 'y')\n",
    "\n",
    "plt.title('profit vs populations')\n",
    "plt.xlabel('populations')\n",
    "plt.ylabel('profit')\n",
    "plt.show()"
   ]
  },
  {
   "cell_type": "code",
   "execution_count": 65,
   "id": "2d953b48",
   "metadata": {},
   "outputs": [
    {
     "name": "stdout",
     "output_type": "stream",
     "text": [
      "when population is 35000 people, profit earned is: 4519.77\n",
      "when population is 70000 people, profit earned is: 45342.45\n"
     ]
    }
   ],
   "source": [
    "#predict for  areas of populations : 35000 and 70000\n",
    "\n",
    "predict1 = w* 3.5 +b\n",
    "print(\"when population is 35000 people, profit earned is: %.2f\" % (predict1* 10000))\n",
    "\n",
    "predict2 = w* 7.0 +b\n",
    "print(\"when population is 70000 people, profit earned is: %.2f\" % (predict2* 10000))"
   ]
  },
  {
   "cell_type": "markdown",
   "id": "40dbfe1c",
   "metadata": {},
   "source": [
    "**You have done it yourself!!!!**"
   ]
  },
  {
   "cell_type": "code",
   "execution_count": null,
   "id": "a1307b03",
   "metadata": {},
   "outputs": [],
   "source": []
  }
 ],
 "metadata": {
  "kernelspec": {
   "display_name": "Python 3 (ipykernel)",
   "language": "python",
   "name": "python3"
  },
  "language_info": {
   "codemirror_mode": {
    "name": "ipython",
    "version": 3
   },
   "file_extension": ".py",
   "mimetype": "text/x-python",
   "name": "python",
   "nbconvert_exporter": "python",
   "pygments_lexer": "ipython3",
   "version": "3.9.12"
  }
 },
 "nbformat": 4,
 "nbformat_minor": 5
}
