{
 "cells": [
  {
   "cell_type": "code",
   "execution_count": 2,
   "id": "b7eeca94",
   "metadata": {},
   "outputs": [],
   "source": [
    "import numpy as np\n",
    "import time"
   ]
  },
  {
   "cell_type": "markdown",
   "id": "971e3652",
   "metadata": {},
   "source": [
    "**Vector Creation**"
   ]
  },
  {
   "cell_type": "code",
   "execution_count": 3,
   "id": "051e72d3",
   "metadata": {},
   "outputs": [
    {
     "name": "stdout",
     "output_type": "stream",
     "text": [
      "np.zeros(4) : a = [0. 0. 0. 0.], a shape = (4,), a data type = float64\n",
      "np.zeros(4,) : a = [0. 0. 0. 0.], a shape = (4,), a data type = float64\n",
      "np.random.random_sample : a =[0.60686932 0.26345349 0.95943341 0.2725049 ], a shape = (4,), a data type = float64\n"
     ]
    }
   ],
   "source": [
    "# these all are one dimension arrays! diff ways to creating \n",
    "a = np.zeros(4); print(f\"np.zeros(4) : a = {a}, a shape = {a.shape}, a data type = {a.dtype}\")\n",
    "a = np.zeros((4,)); print(f\"np.zeros(4,) : a = {a}, a shape = {a.shape}, a data type = {a.dtype}\")\n",
    "a = np.random.random_sample(4); print(f\"np.random.random_sample : a ={a}, a shape = {a.shape}, a data type = {a.dtype}\")"
   ]
  },
  {
   "cell_type": "code",
   "execution_count": 4,
   "id": "c3a397d6",
   "metadata": {},
   "outputs": [
    {
     "name": "stdout",
     "output_type": "stream",
     "text": [
      "np.arange(4.): a = [0. 1. 2. 3.], a shape = (4,), a data type = float64\n",
      "np.array([5,4,3,2]): a = [5 4 3 2], a shape = (4,), a data type = int64\n"
     ]
    }
   ],
   "source": [
    "a = np.arange(4.); print(f\"np.arange(4.): a = {a}, a shape = {a.shape}, a data type = {a.dtype}\")\n",
    "a = np.array([5,4,3,2]); print(f\"np.array([5,4,3,2]): a = {a}, a shape = {a.shape}, a data type = {a.dtype}\")"
   ]
  },
  {
   "cell_type": "code",
   "execution_count": 5,
   "id": "d1a273c6",
   "metadata": {},
   "outputs": [
    {
     "name": "stdout",
     "output_type": "stream",
     "text": [
      "[0 1 2 3 4 5 6 7 8 9]\n",
      "a[2].shape : (), a[2] = 2, accessing single element returns scalar\n",
      "the last element = 9\n",
      "you dont have that much power!\n",
      "index 11 is out of bounds for axis 0 with size 10\n"
     ]
    }
   ],
   "source": [
    "# operations on vectors\n",
    "# Indexing - accessing the vectors\n",
    "# two ways : indexing( accessing single element) and slicing(accessing subset of the vector)\n",
    "a = np.arange(10)\n",
    "print(a)\n",
    "\n",
    "#access an element\n",
    "print(f\"a[2].shape : {a[2].shape}, a[2] = {a[2]}, accessing single element returns scalar\")\n",
    "\n",
    "# access the last element, negative indexes count from the end\n",
    "print(f\"the last element = {a[-1]}\")\n",
    "\n",
    "# if you try to access the element out of the range of vector the error\n",
    "try:\n",
    "    c = a[11]\n",
    "except Exception as e:\n",
    "    print(\"you dont have that much power!\")\n",
    "    print(e)"
   ]
  },
  {
   "cell_type": "code",
   "execution_count": 6,
   "id": "fb9b517c",
   "metadata": {},
   "outputs": [
    {
     "name": "stdout",
     "output_type": "stream",
     "text": [
      "[0 1 2 3 4 5 6 7 8 9]\n",
      "5 consecutive elements : [3 4 5 6 7]\n",
      "[3 4 5 6 7 8 9]\n",
      "all elements: [0 1 2 3 4 5 6 7 8 9]\n"
     ]
    }
   ],
   "source": [
    "# Slicing \n",
    "a = np.arange(10)\n",
    "print(a)\n",
    "\n",
    "#accessing elements (start:stop:step)\n",
    "\n",
    "print(f\"5 consecutive elements : {a[3:8:1]}\")\n",
    "print(a[3:])\n",
    "print(f\"all elements: {a[:]}\")\n"
   ]
  },
  {
   "cell_type": "code",
   "execution_count": 9,
   "id": "d6bd2721",
   "metadata": {},
   "outputs": [
    {
     "name": "stdout",
     "output_type": "stream",
     "text": [
      "[0 1 2 3 4 5 6 7 8 9]\n",
      "[ 0 -1 -2 -3 -4 -5 -6 -7 -8 -9]\n",
      "4.5\n",
      "45\n",
      "[ 0  2  4  6  8 10 12 14 16 18]\n",
      "[ 0  1  4  9 16 25 36 49 64 81]\n"
     ]
    }
   ],
   "source": [
    "# single vector operations \n",
    "a = np.arange(10)\n",
    "print(a)\n",
    "b = -a\n",
    "print(b)\n",
    "b = np.mean(a)\n",
    "print(b)\n",
    "b = np.sum(a)\n",
    "print(b)\n",
    "b = a *2\n",
    "print(b)\n",
    "b = a ** 2\n",
    "print(b)"
   ]
  },
  {
   "cell_type": "code",
   "execution_count": 12,
   "id": "33419bef",
   "metadata": {},
   "outputs": [
    {
     "name": "stdout",
     "output_type": "stream",
     "text": [
      "a+b = [ 7  9 11 13 15]\n",
      "a*b = [ 6 14 24 36 50]\n"
     ]
    }
   ],
   "source": [
    "a = np.array([1,2,3,4,5])\n",
    "b = np.array([6,7,8,9,10])\n",
    "print(f\"a+b = {a+b}\")\n",
    "print(f\"a*b = {a*b}\")"
   ]
  },
  {
   "cell_type": "code",
   "execution_count": 14,
   "id": "7fe37440",
   "metadata": {},
   "outputs": [
    {
     "name": "stdout",
     "output_type": "stream",
     "text": [
      "dot product: 130\n"
     ]
    }
   ],
   "source": [
    "print(f\"dot product: {np.dot(a,b)}\") # it will return scalar only"
   ]
  },
  {
   "cell_type": "markdown",
   "id": "c5d8fc4c",
   "metadata": {},
   "source": [
    "# 2-D arrays"
   ]
  },
  {
   "cell_type": "code",
   "execution_count": 27,
   "id": "a741c3c4",
   "metadata": {},
   "outputs": [
    {
     "name": "stdout",
     "output_type": "stream",
     "text": [
      "[[0. 0. 0. 0. 0.]\n",
      " [0. 0. 0. 0. 0.]\n",
      " [0. 0. 0. 0. 0.]\n",
      " [0. 0. 0. 0. 0.]\n",
      " [0. 0. 0. 0. 0.]]\n",
      "[[ 0  1  2]\n",
      " [ 3  4  5]\n",
      " [ 6  7  8]\n",
      " [ 9 10 11]]\n",
      "5\n"
     ]
    }
   ],
   "source": [
    "a = np.zeros((5, 5))\n",
    "print(a)\n",
    "\n",
    "a = np.arange(12).reshape(-1, 3)\n",
    "print(a)\n",
    "\n",
    "#accessing an element \n",
    "print(a[1,2])"
   ]
  },
  {
   "cell_type": "code",
   "execution_count": 29,
   "id": "9e62b5e4",
   "metadata": {},
   "outputs": [
    {
     "name": "stdout",
     "output_type": "stream",
     "text": [
      "[[ 0  1  2  3  4  5  6  7  8  9]\n",
      " [10 11 12 13 14 15 16 17 18 19]]\n",
      "[13 15 17]\n"
     ]
    }
   ],
   "source": [
    "#slicing\n",
    "a = np.arange(20).reshape(-1,10)\n",
    "print(a)\n",
    "print(a[1, 3:9:2])"
   ]
  },
  {
   "cell_type": "code",
   "execution_count": null,
   "id": "249218d4",
   "metadata": {},
   "outputs": [],
   "source": []
  }
 ],
 "metadata": {
  "kernelspec": {
   "display_name": "Python 3 (ipykernel)",
   "language": "python",
   "name": "python3"
  },
  "language_info": {
   "codemirror_mode": {
    "name": "ipython",
    "version": 3
   },
   "file_extension": ".py",
   "mimetype": "text/x-python",
   "name": "python",
   "nbconvert_exporter": "python",
   "pygments_lexer": "ipython3",
   "version": "3.9.12"
  }
 },
 "nbformat": 4,
 "nbformat_minor": 5
}
