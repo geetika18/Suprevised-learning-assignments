{
 "cells": [
  {
   "cell_type": "code",
   "execution_count": 3,
   "id": "9977c85b",
   "metadata": {},
   "outputs": [],
   "source": [
    "import numpy as np\n",
    "import matplotlib.pyplot as plt\n",
    "plt.style.use('./deeplearning.mplstyle')"
   ]
  },
  {
   "cell_type": "code",
   "execution_count": 4,
   "id": "00a4bcd4",
   "metadata": {},
   "outputs": [
    {
     "name": "stdout",
     "output_type": "stream",
     "text": [
      "x_train = [1. 2.]\n",
      "y_train = [300. 500.]\n"
     ]
    }
   ],
   "source": [
    "#x_train is the input valariable(size in 1000 square feet)\n",
    "#y_train is the target (price in 1000s of dollars)\n",
    "x_train = np.array([1.0, 2.0])\n",
    "y_train = np.array([300.0, 500.0])\n",
    "print(f\"x_train = {x_train}\")\n",
    "print(f\"y_train = {y_train}\")"
   ]
  },
  {
   "cell_type": "code",
   "execution_count": 5,
   "id": "230623d2",
   "metadata": {},
   "outputs": [
    {
     "name": "stdout",
     "output_type": "stream",
     "text": [
      "x_train.shape : (2,)\n",
      "Number of training examples is: 2\n"
     ]
    }
   ],
   "source": [
    "# m is the number of training examples\n",
    "print(f\"x_train.shape : {x_train.shape}\") #.shape parameter returns a python tuple with an entry for each dimension.\n",
    "#x_train.shape[0] is the length of array and number of examples\n",
    "m = x_train.shape[0]\n",
    "print(f\"Number of training examples is: {m}\") # you can use len() also. m = len(x_train)"
   ]
  },
  {
   "cell_type": "code",
   "execution_count": 6,
   "id": "a7925165",
   "metadata": {},
   "outputs": [
    {
     "name": "stdout",
     "output_type": "stream",
     "text": [
      "(x^(0), y^(0)) = (1.0,300.0)\n"
     ]
    }
   ],
   "source": [
    "#accessing the entries\n",
    "i = 0 #for accessing first entry\n",
    "x_i = x_train[i]\n",
    "y_i = y_train[i]\n",
    "print(f\"(x^({i}), y^({i})) = ({x_i},{y_i})\")"
   ]
  },
  {
   "cell_type": "code",
   "execution_count": 11,
   "id": "49d250b6",
   "metadata": {},
   "outputs": [
    {
     "data": {
      "text/plain": [
       "Text(0.5, 0, 'size in 1000 sq ft')"
      ]
     },
     "execution_count": 11,
     "metadata": {},
     "output_type": "execute_result"
    },
    {
     "data": {
      "image/png": "[encoded data removed]",
      "text/plain": [
       "<Figure size 432x288 with 1 Axes>"
      ]
     },
     "metadata": {
      "needs_background": "light"
     },
     "output_type": "display_data"
    }
   ],
   "source": [
    "#plotting the data\n",
    "plt.scatter(x_train, y_train, marker ='.', c ='y')\n",
    "#set the title\n",
    "plt.title(\"Housing Prices\")\n",
    "plt.ylabel(\"Prices in 1000s of dollars\")\n",
    "plt.xlabel(\"size in 1000 sq ft\")"
   ]
  },
  {
   "cell_type": "code",
   "execution_count": 29,
   "id": "2f384ae8",
   "metadata": {},
   "outputs": [
    {
     "name": "stdout",
     "output_type": "stream",
     "text": [
      "w : 200\n",
      "b : 100\n"
     ]
    }
   ],
   "source": [
    "#cost function\n",
    "w = 200\n",
    "b = 100\n",
    "print(f\"w : {w}\")\n",
    "print(f\"b : {b}\")"
   ]
  },
  {
   "cell_type": "code",
   "execution_count": 30,
   "id": "13b393cb",
   "metadata": {},
   "outputs": [],
   "source": [
    "#compute for each training example\n",
    "def compute_model_output(x, w, b):\n",
    "    \"\"\"\n",
    "    compute the prediction of a linear model\n",
    "    args: \n",
    "     x(ndarray(m,)): Data, m examples\n",
    "     w,b(scalar) : model parameters\n",
    "    Returns\n",
    "     y (ndarray(m,)): target values\n",
    "    \"\"\"\n",
    "    m = x.shape[0]\n",
    "    f_wb = np.zeros(m)\n",
    "    for i in range(m):\n",
    "        f_wb[i] = w*x[i] + b\n",
    "    return f_wb"
   ]
  },
  {
   "cell_type": "code",
   "execution_count": 31,
   "id": "5bd7e6c8",
   "metadata": {},
   "outputs": [
    {
     "data": {
      "image/png": "[encoded data removed]",
      "text/plain": [
       "<Figure size 432x288 with 1 Axes>"
      ]
     },
     "metadata": {
      "needs_background": "light"
     },
     "output_type": "display_data"
    }
   ],
   "source": [
    "tmp_f_wb = compute_model_output(x_train, w, b)\n",
    "#plot output\n",
    "plt.plot(x_train, tmp_f_wb, c = 'r', label ='Our prediction')\n",
    "#plot data points\n",
    "plt.scatter(x_train, y_train, marker = '*', c = 'b', label='Actual values')\n",
    "plt.ylabel('prices')\n",
    "plt.xlabel('size')\n",
    "plt.legend()\n",
    "plt.show()\n"
   ]
  },
  {
   "cell_type": "code",
   "execution_count": 32,
   "id": "76c79e36",
   "metadata": {},
   "outputs": [
    {
     "name": "stdout",
     "output_type": "stream",
     "text": [
      "Cost of 1200 sq ft house : 340000.0 dollars\n"
     ]
    }
   ],
   "source": [
    "#predict for house of 1200 sq ft\n",
    "w = 200\n",
    "b = 100\n",
    "x_i = 1.2\n",
    "cost_1200sqft = w * x_i + b\n",
    "print(f\"Cost of 1200 sq ft house : {cost_1200sqft * 1000} dollars\")"
   ]
  },
  {
   "cell_type": "code",
   "execution_count": null,
   "id": "acd8f83e",
   "metadata": {},
   "outputs": [],
   "source": []
  }
 ],
 "metadata": {
  "kernelspec": {
   "display_name": "Python 3 (ipykernel)",
   "language": "python",
   "name": "python3"
  },
  "language_info": {
   "codemirror_mode": {
    "name": "ipython",
    "version": 3
   },
   "file_extension": ".py",
   "mimetype": "text/x-python",
   "name": "python",
   "nbconvert_exporter": "python",
   "pygments_lexer": "ipython3",
   "version": "3.9.12"
  }
 },
 "nbformat": 4,
 "nbformat_minor": 5
}
